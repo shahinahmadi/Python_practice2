{
 "cells": [
  {
   "cell_type": "markdown",
   "metadata": {},
   "source": [
    "## Open the exel file and read the contents"
   ]
  },
  {
   "cell_type": "code",
   "execution_count": 17,
   "metadata": {},
   "outputs": [
    {
     "name": "stdout",
     "output_type": "stream",
     "text": [
      "   transaction_id  product_id  price \n",
      "0            1001           1    5.95\n",
      "1            1002           2    6.95\n",
      "2            1003           3    7.95\n"
     ]
    }
   ],
   "source": [
    "import pandas as pd\n",
    "\n",
    "df = pd.read_excel (r'transactions.xlsx')\n",
    "print(df)\n"
   ]
  },
  {
   "cell_type": "markdown",
   "metadata": {},
   "source": [
    "## Start analyzing"
   ]
  },
  {
   "cell_type": "code",
   "execution_count": 32,
   "metadata": {},
   "outputs": [
    {
     "name": "stdout",
     "output_type": "stream",
     "text": [
      "   transaction_id  product_id  price   corrected_value\n",
      "0            1001           1    5.95            5.355\n",
      "1            1002           2    6.95            6.255\n",
      "2            1003           3    7.95            7.155\n"
     ]
    }
   ],
   "source": [
    "df['corrected_value']=df['price ']*0.9\n",
    "print (df)"
   ]
  },
  {
   "cell_type": "markdown",
   "metadata": {},
   "source": [
    "##  Plot the bar graph"
   ]
  },
  {
   "cell_type": "code",
   "execution_count": 35,
   "metadata": {},
   "outputs": [
    {
     "data": {
      "image/png": "[encoded data removed]",
      "text/plain": [
       "<Figure size 432x288 with 1 Axes>"
      ]
     },
     "metadata": {
      "needs_background": "light"
     },
     "output_type": "display_data"
    }
   ],
   "source": [
    "import matplotlib.pyplot as plt\n",
    "\n",
    "x_value = [1,2,3]\n",
    "corrected_value=df['corrected_value']\n",
    "bargraph=plt.bar(x_value,corrected_value)\n",
    "plt.title('Corrected values of the price')\n",
    "plt.ylabel('Total variation(%)')\n",
    "plt.xlabel('Stock name')\n",
    "\n",
    "bargraph[0].set_color('r')\n",
    "bargraph[1].set_color('y')\n",
    "bargraph[2].set_color('b')\n",
    "\n",
    "plt.savefig(\"bargraph.pdf\", bbox_inches='tight')\n",
    "plt.show()"
   ]
  },
  {
   "cell_type": "code",
   "execution_count": null,
   "metadata": {},
   "outputs": [],
   "source": []
  }
 ],
 "metadata": {
  "kernelspec": {
   "display_name": "Python 3",
   "language": "python",
   "name": "python3"
  },
  "language_info": {
   "codemirror_mode": {
    "name": "ipython",
    "version": 3
   },
   "file_extension": ".py",
   "mimetype": "text/x-python",
   "name": "python",
   "nbconvert_exporter": "python",
   "pygments_lexer": "ipython3",
   "version": "3.7.3"
  }
 },
 "nbformat": 4,
 "nbformat_minor": 2
}
