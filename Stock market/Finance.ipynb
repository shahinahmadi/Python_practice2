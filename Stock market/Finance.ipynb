{
 "cells": [
  {
   "cell_type": "markdown",
   "metadata": {},
   "source": [
    "## This code is writen to analyse the variation of some stocks in Iran's stock market"
   ]
  },
  {
   "cell_type": "code",
   "execution_count": 1,
   "metadata": {},
   "outputs": [
    {
     "data": {
      "text/plain": [
       "<Figure size 640x480 with 1 Axes>"
      ]
     },
     "metadata": {},
     "output_type": "display_data"
    },
    {
     "data": {
      "text/html": [
       "<div>\n",
       "<style scoped>\n",
       "    .dataframe tbody tr th:only-of-type {\n",
       "        vertical-align: middle;\n",
       "    }\n",
       "\n",
       "    .dataframe tbody tr th {\n",
       "        vertical-align: top;\n",
       "    }\n",
       "\n",
       "    .dataframe thead th {\n",
       "        text-align: right;\n",
       "    }\n",
       "</style>\n",
       "<table border=\"1\" class=\"dataframe\">\n",
       "  <thead>\n",
       "    <tr style=\"text-align: right;\">\n",
       "      <th></th>\n",
       "      <th>Fameli1</th>\n",
       "      <th>Fameli2</th>\n",
       "      <th>Dey</th>\n",
       "      <th>Shabandar</th>\n",
       "      <th>Hakeshti</th>\n",
       "      <th>Saamera</th>\n",
       "      <th>Faspa</th>\n",
       "    </tr>\n",
       "  </thead>\n",
       "  <tbody>\n",
       "    <tr>\n",
       "      <th>0</th>\n",
       "      <td>0.020</td>\n",
       "      <td>0.02</td>\n",
       "      <td>0.012340</td>\n",
       "      <td>0.034565</td>\n",
       "      <td>0.042625</td>\n",
       "      <td>0.032420</td>\n",
       "      <td>0.034430</td>\n",
       "    </tr>\n",
       "    <tr>\n",
       "      <th>1</th>\n",
       "      <td>0.020</td>\n",
       "      <td>0.02</td>\n",
       "      <td>0.032000</td>\n",
       "      <td>0.045000</td>\n",
       "      <td>0.016664</td>\n",
       "      <td>0.042525</td>\n",
       "      <td>0.042424</td>\n",
       "    </tr>\n",
       "    <tr>\n",
       "      <th>2</th>\n",
       "      <td>0.030</td>\n",
       "      <td>0.02</td>\n",
       "      <td>0.043520</td>\n",
       "      <td>0.345876</td>\n",
       "      <td>0.050000</td>\n",
       "      <td>0.042424</td>\n",
       "      <td>0.042355</td>\n",
       "    </tr>\n",
       "    <tr>\n",
       "      <th>3</th>\n",
       "      <td>0.043</td>\n",
       "      <td>0.02</td>\n",
       "      <td>0.036620</td>\n",
       "      <td>0.026254</td>\n",
       "      <td>0.023242</td>\n",
       "      <td>0.035300</td>\n",
       "      <td>0.034250</td>\n",
       "    </tr>\n",
       "    <tr>\n",
       "      <th>4</th>\n",
       "      <td>0.023</td>\n",
       "      <td>0.02</td>\n",
       "      <td>0.043555</td>\n",
       "      <td>0.052526</td>\n",
       "      <td>0.042245</td>\n",
       "      <td>0.022440</td>\n",
       "      <td>0.026666</td>\n",
       "    </tr>\n",
       "  </tbody>\n",
       "</table>\n",
       "</div>"
      ],
      "text/plain": [
       "   Fameli1  Fameli2       Dey  Shabandar  Hakeshti   Saamera     Faspa\n",
       "0    0.020     0.02  0.012340   0.034565  0.042625  0.032420  0.034430\n",
       "1    0.020     0.02  0.032000   0.045000  0.016664  0.042525  0.042424\n",
       "2    0.030     0.02  0.043520   0.345876  0.050000  0.042424  0.042355\n",
       "3    0.043     0.02  0.036620   0.026254  0.023242  0.035300  0.034250\n",
       "4    0.023     0.02  0.043555   0.052526  0.042245  0.022440  0.026666"
      ]
     },
     "execution_count": 1,
     "metadata": {},
     "output_type": "execute_result"
    }
   ],
   "source": [
    "import os\n",
    "import numpy\n",
    "import pandas as pd\n",
    "from matplotlib import pyplot as plt\n",
    "df1 = pd.read_csv(\"Shahin.csv\", skiprows=[1])\n",
    "day=[]\n",
    "for i in numpy.arange(1, 6, 1):\n",
    "    day.append(i)\n",
    "\n",
    "plt.plot(day,df1['Fameli1'])\n",
    "plt.plot(day,df1['Fameli2'])\n",
    "plt.plot(day,df1['Dey'])\n",
    "plt.plot(day,df1['Shabandar'])\n",
    "plt.plot(day,df1['Hakeshti'])\n",
    "plt.plot(day,df1['Saamera'])\n",
    "plt.plot(day,df1['Faspa'])\n",
    "\n",
    "plt.title('Period of 6/29-7/2(1399)')\n",
    "plt.ylabel('Variation(%)')\n",
    "plt.xlabel('Weekdays')\n",
    "plt.legend([\"Fameli1\",\"Fameli2\", \"Dey\", \"Shabandar\", \"Hakeshti\", \"Saamera\", \"Faspa\"])\n",
    "plt.savefig(\"Stock1.pdf\", bbox_inches='tight')\n",
    "plt.show()\n",
    "\n",
    "df1.head()\n",
    "\n"
   ]
  },
  {
   "cell_type": "code",
   "execution_count": 2,
   "metadata": {},
   "outputs": [
    {
     "name": "stdout",
     "output_type": "stream",
     "text": [
      "[0.136, 0.1, 0.16803524, -0.50422185, 0.174775794, 0.17510900000000001, 0.18012540000000002]\n"
     ]
    }
   ],
   "source": [
    "Fameli1_t = df1['Fameli1'].sum()\n",
    "Fameli2_t = df1['Fameli2'].sum()\n",
    "Dey_t = df1['Dey'].sum()\n",
    "Shabandar_t = df1['Shabandar'].sum()\n",
    "Hakeshti_t = df1['Hakeshti'].sum()\n",
    "Saamera_t = df1['Saamera'].sum()\n",
    "Faspa_t = df1['Faspa'].sum()\n",
    "\n",
    "Total_price=[Fameli1_t,Fameli2_t,Dey_t,-Shabandar_t,Hakeshti_t,Saamera_t, Faspa_t]\n",
    "print(Total_price)"
   ]
  },
  {
   "cell_type": "markdown",
   "metadata": {},
   "source": [
    "### Add Total_variation column"
   ]
  },
  {
   "cell_type": "code",
   "execution_count": 3,
   "metadata": {},
   "outputs": [
    {
     "data": {
      "image/png": "[encoded data removed]",
      "text/plain": [
       "<Figure size 432x288 with 1 Axes>"
      ]
     },
     "metadata": {
      "needs_background": "light"
     },
     "output_type": "display_data"
    }
   ],
   "source": [
    "import matplotlib.pyplot as plt\n",
    "\n",
    "stock = ['Famei1', 'Fameli2', 'Dey' , 'Shabandar' , 'Hakeshti' , 'Saamera' , 'Faspa']\n",
    "\n",
    "bargraph=plt.bar(stock,Total_price)\n",
    "plt.title('The total variation for the period of 6/29-7/2(1399)')\n",
    "plt.ylabel('Total variation(%)')\n",
    "plt.xlabel('Stock name')\n",
    "plt.xticks(stock, rotation='vertical', size=8)\n",
    "bargraph[0].set_color('r')\n",
    "bargraph[1].set_color('y')\n",
    "bargraph[2].set_color('b')\n",
    "bargraph[3].set_color('g')\n",
    "bargraph[4].set_color('b')\n",
    "bargraph[5].set_color('m')\n",
    "bargraph[6].set_color('c')\n",
    "plt.savefig(\"Stock1.pdf\", bbox_inches='tight')\n",
    "plt.show()"
   ]
  },
  {
   "cell_type": "code",
   "execution_count": null,
   "metadata": {},
   "outputs": [],
   "source": []
  }
 ],
 "metadata": {
  "kernelspec": {
   "display_name": "Python 3",
   "language": "python",
   "name": "python3"
  },
  "language_info": {
   "codemirror_mode": {
    "name": "ipython",
    "version": 3
   },
   "file_extension": ".py",
   "mimetype": "text/x-python",
   "name": "python",
   "nbconvert_exporter": "python",
   "pygments_lexer": "ipython3",
   "version": "3.7.3"
  }
 },
 "nbformat": 4,
 "nbformat_minor": 2
}
